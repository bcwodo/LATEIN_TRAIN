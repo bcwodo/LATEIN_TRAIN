{
 "cells": [
  {
   "cell_type": "code",
   "execution_count": 3,
   "id": "6571295c-becb-4a5a-ad43-45817a241d67",
   "metadata": {},
   "outputs": [],
   "source": [
    "import numpy as np\n",
    "import pandas as pd\n",
    "import matplotlib.pyplot as plt\n",
    "\n",
    "from sklearn.linear_model import LinearRegression, Lasso\n",
    "\n",
    "\n",
    "from sklearn.metrics import mean_squared_error\n",
    "from sklearn.metrics import explained_variance_score\n",
    "\n",
    "from joblib import dump, load"
   ]
  },
  {
   "cell_type": "markdown",
   "id": "03f402be-f6a7-403c-910d-23e8805ebe7c",
   "metadata": {},
   "source": [
    "## Lade Daten"
   ]
  },
  {
   "cell_type": "code",
   "execution_count": 20,
   "id": "27784c68-e33c-4a68-8608-3804ec4bc175",
   "metadata": {},
   "outputs": [
    {
     "data": {
      "text/html": [
       "<div>\n",
       "<style scoped>\n",
       "    .dataframe tbody tr th:only-of-type {\n",
       "        vertical-align: middle;\n",
       "    }\n",
       "\n",
       "    .dataframe tbody tr th {\n",
       "        vertical-align: top;\n",
       "    }\n",
       "\n",
       "    .dataframe thead th {\n",
       "        text-align: right;\n",
       "    }\n",
       "</style>\n",
       "<table border=\"1\" class=\"dataframe\">\n",
       "  <thead>\n",
       "    <tr style=\"text-align: right;\">\n",
       "      <th></th>\n",
       "      <th>Year</th>\n",
       "      <th>Quater</th>\n",
       "      <th>Country</th>\n",
       "      <th>PC_B2B</th>\n",
       "      <th>PC_B2C</th>\n",
       "      <th>LH_B2B</th>\n",
       "      <th>LH_B2C</th>\n",
       "      <th>Number_Brokers</th>\n",
       "      <th>Number_Salesmen</th>\n",
       "      <th>Number_Tied_Agents</th>\n",
       "      <th>...</th>\n",
       "      <th>Net_Invests_Total</th>\n",
       "      <th>Share_TV</th>\n",
       "      <th>Share_Print</th>\n",
       "      <th>Share_OOH</th>\n",
       "      <th>Share_Radio</th>\n",
       "      <th>Share_Search</th>\n",
       "      <th>Share_Social</th>\n",
       "      <th>Share_of_Advertising</th>\n",
       "      <th>Consideration</th>\n",
       "      <th>Purchase_Intent</th>\n",
       "    </tr>\n",
       "  </thead>\n",
       "  <tbody>\n",
       "    <tr>\n",
       "      <th>0</th>\n",
       "      <td>2020</td>\n",
       "      <td>Q1</td>\n",
       "      <td>Brazil</td>\n",
       "      <td>0.0</td>\n",
       "      <td>197982.000000</td>\n",
       "      <td>0</td>\n",
       "      <td>0</td>\n",
       "      <td>15859</td>\n",
       "      <td>0.0</td>\n",
       "      <td>0.0</td>\n",
       "      <td>...</td>\n",
       "      <td>4.863391e+05</td>\n",
       "      <td>0.425017</td>\n",
       "      <td>0.000000</td>\n",
       "      <td>0.304143</td>\n",
       "      <td>0.06221</td>\n",
       "      <td>0.024420</td>\n",
       "      <td>0.022781</td>\n",
       "      <td>0.106221</td>\n",
       "      <td>1.006678</td>\n",
       "      <td>0.275090</td>\n",
       "    </tr>\n",
       "    <tr>\n",
       "      <th>1</th>\n",
       "      <td>2020</td>\n",
       "      <td>Q1</td>\n",
       "      <td>France</td>\n",
       "      <td>54974.0</td>\n",
       "      <td>251457.000000</td>\n",
       "      <td>0</td>\n",
       "      <td>0</td>\n",
       "      <td>0</td>\n",
       "      <td>963.0</td>\n",
       "      <td>1789.0</td>\n",
       "      <td>...</td>\n",
       "      <td>1.889500e+06</td>\n",
       "      <td>0.112199</td>\n",
       "      <td>0.095871</td>\n",
       "      <td>0.000000</td>\n",
       "      <td>0.00000</td>\n",
       "      <td>0.648542</td>\n",
       "      <td>0.102794</td>\n",
       "      <td>0.011659</td>\n",
       "      <td>8.391027</td>\n",
       "      <td>2.938886</td>\n",
       "    </tr>\n",
       "    <tr>\n",
       "      <th>2</th>\n",
       "      <td>2020</td>\n",
       "      <td>Q1</td>\n",
       "      <td>Germany</td>\n",
       "      <td>318610.0</td>\n",
       "      <td>753875.445485</td>\n",
       "      <td>0</td>\n",
       "      <td>0</td>\n",
       "      <td>0</td>\n",
       "      <td>3614.0</td>\n",
       "      <td>8124.0</td>\n",
       "      <td>...</td>\n",
       "      <td>9.082307e+06</td>\n",
       "      <td>0.314228</td>\n",
       "      <td>0.016108</td>\n",
       "      <td>0.022527</td>\n",
       "      <td>0.00000</td>\n",
       "      <td>0.292802</td>\n",
       "      <td>0.063124</td>\n",
       "      <td>0.089195</td>\n",
       "      <td>20.013168</td>\n",
       "      <td>7.577753</td>\n",
       "    </tr>\n",
       "    <tr>\n",
       "      <th>3</th>\n",
       "      <td>2020</td>\n",
       "      <td>Q1</td>\n",
       "      <td>Italy</td>\n",
       "      <td>56541.0</td>\n",
       "      <td>312076.000000</td>\n",
       "      <td>0</td>\n",
       "      <td>0</td>\n",
       "      <td>0</td>\n",
       "      <td>21850.0</td>\n",
       "      <td>2389.0</td>\n",
       "      <td>...</td>\n",
       "      <td>4.573274e+06</td>\n",
       "      <td>0.953244</td>\n",
       "      <td>0.001550</td>\n",
       "      <td>0.000000</td>\n",
       "      <td>0.00000</td>\n",
       "      <td>0.015743</td>\n",
       "      <td>0.003706</td>\n",
       "      <td>0.334067</td>\n",
       "      <td>12.645906</td>\n",
       "      <td>5.183672</td>\n",
       "    </tr>\n",
       "    <tr>\n",
       "      <th>4</th>\n",
       "      <td>2020</td>\n",
       "      <td>Q1</td>\n",
       "      <td>Spain</td>\n",
       "      <td>17636.0</td>\n",
       "      <td>272872.000000</td>\n",
       "      <td>0</td>\n",
       "      <td>0</td>\n",
       "      <td>4785</td>\n",
       "      <td>0.0</td>\n",
       "      <td>5625.0</td>\n",
       "      <td>...</td>\n",
       "      <td>1.501930e+06</td>\n",
       "      <td>0.425124</td>\n",
       "      <td>0.100962</td>\n",
       "      <td>0.000000</td>\n",
       "      <td>0.00000</td>\n",
       "      <td>0.163220</td>\n",
       "      <td>0.029465</td>\n",
       "      <td>0.017482</td>\n",
       "      <td>8.540629</td>\n",
       "      <td>2.021611</td>\n",
       "    </tr>\n",
       "  </tbody>\n",
       "</table>\n",
       "<p>5 rows × 21 columns</p>\n",
       "</div>"
      ],
      "text/plain": [
       "   Year Quater  Country    PC_B2B         PC_B2C  LH_B2B  LH_B2C  \\\n",
       "0  2020     Q1   Brazil       0.0  197982.000000       0       0   \n",
       "1  2020     Q1   France   54974.0  251457.000000       0       0   \n",
       "2  2020     Q1  Germany  318610.0  753875.445485       0       0   \n",
       "3  2020     Q1    Italy   56541.0  312076.000000       0       0   \n",
       "4  2020     Q1    Spain   17636.0  272872.000000       0       0   \n",
       "\n",
       "   Number_Brokers  Number_Salesmen  Number_Tied_Agents  ...  \\\n",
       "0           15859              0.0                 0.0  ...   \n",
       "1               0            963.0              1789.0  ...   \n",
       "2               0           3614.0              8124.0  ...   \n",
       "3               0          21850.0              2389.0  ...   \n",
       "4            4785              0.0              5625.0  ...   \n",
       "\n",
       "   Net_Invests_Total  Share_TV  Share_Print  Share_OOH  Share_Radio  \\\n",
       "0       4.863391e+05  0.425017     0.000000   0.304143      0.06221   \n",
       "1       1.889500e+06  0.112199     0.095871   0.000000      0.00000   \n",
       "2       9.082307e+06  0.314228     0.016108   0.022527      0.00000   \n",
       "3       4.573274e+06  0.953244     0.001550   0.000000      0.00000   \n",
       "4       1.501930e+06  0.425124     0.100962   0.000000      0.00000   \n",
       "\n",
       "   Share_Search  Share_Social  Share_of_Advertising  Consideration  \\\n",
       "0      0.024420      0.022781              0.106221       1.006678   \n",
       "1      0.648542      0.102794              0.011659       8.391027   \n",
       "2      0.292802      0.063124              0.089195      20.013168   \n",
       "3      0.015743      0.003706              0.334067      12.645906   \n",
       "4      0.163220      0.029465              0.017482       8.540629   \n",
       "\n",
       "   Purchase_Intent  \n",
       "0         0.275090  \n",
       "1         2.938886  \n",
       "2         7.577753  \n",
       "3         5.183672  \n",
       "4         2.021611  \n",
       "\n",
       "[5 rows x 21 columns]"
      ]
     },
     "execution_count": 20,
     "metadata": {},
     "output_type": "execute_result"
    }
   ],
   "source": [
    "check = pd.read_excel(\"../10_DM/Historical 2010-2021/original3.xlsx\")\n",
    "df = pd.read_excel(\"MASTER_TEST.xlsx\", skiprows=1)\n",
    "df.head()"
   ]
  },
  {
   "cell_type": "markdown",
   "id": "8eba190a-a6d2-4fdb-9a2f-18cbb35a0a6e",
   "metadata": {},
   "source": [
    "## Datenmanagement"
   ]
  },
  {
   "cell_type": "code",
   "execution_count": 21,
   "id": "5e26d979-46f7-45bf-8be0-86af6c5ce434",
   "metadata": {},
   "outputs": [],
   "source": [
    "df[\"pol_total\"] = df.PC_B2B + df.PC_B2C + df.LH_B2B + df.LH_B2C\n",
    "df[\"lh_anteil\"] = (df.LH_B2B + df.LH_B2C) / df.pol_total"
   ]
  },
  {
   "cell_type": "markdown",
   "id": "e11f7fd4-3a87-4de1-bfba-c9f3f7c9a18d",
   "metadata": {},
   "source": [
    "## Modelle laden"
   ]
  },
  {
   "cell_type": "code",
   "execution_count": 22,
   "id": "fd0f19e7-17eb-4279-bf86-62d481c1b0df",
   "metadata": {},
   "outputs": [],
   "source": [
    "q_modell = load('quaterly_model.joblib')\n",
    "scaler = load('rescale60to50.joblib')"
   ]
  },
  {
   "cell_type": "markdown",
   "id": "cb1237a3-a343-4fd4-bca6-bf100f774ea1",
   "metadata": {},
   "source": [
    "## Vektoren definieren & Prediciton"
   ]
  },
  {
   "cell_type": "code",
   "execution_count": 23,
   "id": "4967a55e-bf21-4e75-9215-86fe2d1f4a00",
   "metadata": {},
   "outputs": [],
   "source": [
    "use_cols = ['Net_Invests_Total',  \"Share_TV\", \"Number_Tied_Agents\", 'lh_anteil']\n",
    "X = df[use_cols].values"
   ]
  },
  {
   "cell_type": "code",
   "execution_count": 24,
   "id": "dcbb8742-00d7-45a4-91be-ecc964266664",
   "metadata": {},
   "outputs": [],
   "source": [
    "pred60 = q_modell.predict(X)\n",
    "pred50 = scaler.predict(pred60.reshape(-1, 1))"
   ]
  },
  {
   "cell_type": "code",
   "execution_count": 32,
   "id": "34d8d546-9e71-4579-bf6b-4baaeb8b22d1",
   "metadata": {},
   "outputs": [],
   "source": [
    "out = df.copy()\n",
    "out[\"Policies_60\"] = pred60\n",
    "out[\"Policies_50\"] = pred50\n",
    "out[[\"Year\", \"Quater\", \"Country\", \"Policies_60\", \"Policies_50\"]].to_excel(\"Prediciton_test.xlsx\", index=False)"
   ]
  },
  {
   "cell_type": "code",
   "execution_count": 31,
   "id": "32fc38b4-0cfa-4aaa-a5e6-dd22b0a45240",
   "metadata": {},
   "outputs": [
    {
     "data": {
      "text/plain": [
       "<matplotlib.collections.PathCollection at 0x24d59326a30>"
      ]
     },
     "execution_count": 31,
     "metadata": {},
     "output_type": "execute_result"
    },
    {
     "data": {
      "image/png": "[encoded data removed]",
      "text/plain": [
       "<Figure size 720x720 with 1 Axes>"
      ]
     },
     "metadata": {
      "needs_background": "light"
     },
     "output_type": "display_data"
    }
   ],
   "source": [
    "plt.figure(figsize=(10,10))\n",
    "plt.scatter(out.policies_50, check.target_50, label= \"Random Forest\")"
   ]
  },
  {
   "cell_type": "code",
   "execution_count": null,
   "id": "9b0f6095-f7dc-4329-a2e3-7b56890d3919",
   "metadata": {},
   "outputs": [],
   "source": []
  }
 ],
 "metadata": {
  "kernelspec": {
   "display_name": "Python 3 (ipykernel)",
   "language": "python",
   "name": "python3"
  },
  "language_info": {
   "codemirror_mode": {
    "name": "ipython",
    "version": 3
   },
   "file_extension": ".py",
   "mimetype": "text/x-python",
   "name": "python",
   "nbconvert_exporter": "python",
   "pygments_lexer": "ipython3",
   "version": "3.9.12"
  }
 },
 "nbformat": 4,
 "nbformat_minor": 5
}
