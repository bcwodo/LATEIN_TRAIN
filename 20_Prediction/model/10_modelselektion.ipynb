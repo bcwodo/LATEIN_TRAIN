{
 "cells": [
  {
   "cell_type": "code",
   "execution_count": 1,
   "id": "07f25959-a3c2-4cf5-9ddd-bb891c37f2c7",
   "metadata": {},
   "outputs": [],
   "source": [
    "import numpy as np\n",
    "import pandas as pd\n",
    "import matplotlib.pyplot as plt\n",
    "from sklearn.ensemble import RandomForestRegressor, GradientBoostingRegressor\n",
    "from sklearn.linear_model import LinearRegression, Lasso\n",
    "from sklearn.neighbors import KNeighborsRegressor\n",
    "from sklearn.model_selection import train_test_split\n",
    "from sklearn.metrics import mean_squared_error\n",
    "from sklearn.metrics import explained_variance_score"
   ]
  },
  {
   "cell_type": "code",
   "execution_count": 2,
   "id": "c5b68d69-b935-4136-86be-df481333c233",
   "metadata": {},
   "outputs": [],
   "source": [
    "df = pd.read_excel(\"../10_DM/Historical 2010-2021/original3.xlsx\")"
   ]
  },
  {
   "cell_type": "code",
   "execution_count": 3,
   "id": "c3322ba0-8726-4545-b81b-810611e26349",
   "metadata": {},
   "outputs": [
    {
     "data": {
      "text/plain": [
       "Index(['year', 'quater', 'country', 'net_invests', 'soa', 'pol_LH', 'pol_PC',\n",
       "       'broker', 'callcenter', 'salaesmen', 'agents', 'webvisits', 'Share_TV',\n",
       "       'Share_Print', 'Share_OOH', 'Share_Radio', 'Share_Search',\n",
       "       'Share_Social', 'Consideration', 'PurchaseIntent', 'target_60',\n",
       "       'target_50', 'Brazil', 'France', 'Germany', 'Italy', 'Spain',\n",
       "       'Switzerland', 'pol_total', 'lh_anteil'],\n",
       "      dtype='object')"
      ]
     },
     "execution_count": 3,
     "metadata": {},
     "output_type": "execute_result"
    }
   ],
   "source": [
    "df[\"Brazil\"] = df.country == \"Brazil\"\n",
    "df[\"France\"] = df.country == \"France\"\n",
    "df[\"Germany\"] = df.country == \"Germany\"\n",
    "df[\"Italy\"] = df.country == \"Italy\"\n",
    "df[\"Spain\"] = df.country == \"Spain\"\n",
    "df[\"Switzerland\"] = df.country == \"Switzerland\"\n",
    "\n",
    "df[\"pol_total\"] = df.pol_LH + df.pol_PC\n",
    "df[\"lh_anteil\"] = df.pol_LH / df.pol_total\n",
    "\n",
    "#df[\"soa\"] = df.net_invests/df.markt\n",
    "df.columns"
   ]
  },
  {
   "cell_type": "code",
   "execution_count": 4,
   "id": "adade7f5-67f3-40d8-9f9e-e36b259d1020",
   "metadata": {},
   "outputs": [],
   "source": [
    "use_cols = ['net_invests', 'pol_total', 'lh_anteil','Brazil', 'France', 'Germany', 'Italy', 'Spain', 'Switzerland', 'broker', 'callcenter', \n",
    "           'salaesmen', 'agents', 'webvisits', \"soa\", 'Share_TV', 'Share_Print', 'Share_OOH', 'Share_Radio', 'Share_Search', 'Share_Social', \"PurchaseIntent\"]\n",
    "#use_cols = ['net_invests', 'markt', 'pol_total', 'lh_anteil', 'Germany', 'agents', 'webvisits', \"soa\"]\n",
    "#use_cols = ['net_invests', 'lh_anteil',  'Share_TV',  'Share_Print',  \"soa\",  'salaesmen', 'agents', 'pol_total']\n",
    "#use_cols = ['net_invests', 'lh_anteil', 'Germany',  'France', 'Switzerland', 'agents', 'salaesmen', \"soa\", 'Share_TV']\n",
    "#use_cols = ['net_invests', 'lh_anteil', \"agents\", \"PurchaseIntent\", \"Share_TV\"]\n",
    "use_cols = ['net_invests',  \"Share_TV\", \"agents\", 'lh_anteil']\n",
    "\n",
    "X = df[use_cols].values\n",
    "y = df[\"target_50\"]"
   ]
  },
  {
   "cell_type": "code",
   "execution_count": 5,
   "id": "30c770e0-929b-4757-b48d-190d4961d6c3",
   "metadata": {},
   "outputs": [],
   "source": [
    "X_train, X_test, y_train, y_test = train_test_split(X, y, test_size=0.2, random_state=123)"
   ]
  },
  {
   "cell_type": "code",
   "execution_count": 6,
   "id": "7d4eaa48-41a2-4849-90f5-d7e0f22d8a2d",
   "metadata": {},
   "outputs": [
    {
     "data": {
      "text/plain": [
       "Lasso(alpha=1, max_iter=5000)"
      ]
     },
     "execution_count": 6,
     "metadata": {},
     "output_type": "execute_result"
    }
   ],
   "source": [
    "rf = RandomForestRegressor(n_estimators=50, random_state=0)\n",
    "lm = LinearRegression()\n",
    "kn = KNeighborsRegressor()\n",
    "gb = GradientBoostingRegressor()\n",
    "la = Lasso(alpha=1, max_iter=5000)\n",
    "rf.fit(X_train,y_train)\n",
    "lm.fit(X_train,y_train)\n",
    "kn.fit(X_train,y_train)\n",
    "gb.fit(X_train,y_train)\n",
    "la.fit(X_train,y_train)"
   ]
  },
  {
   "cell_type": "code",
   "execution_count": 7,
   "id": "b9a6c147-aecc-43ad-969f-18fefff443e9",
   "metadata": {},
   "outputs": [],
   "source": [
    "y_hat_rf = rf.predict(X_test)\n",
    "y_hat_lm = lm.predict(X_test)\n",
    "y_hat_kn = kn.predict(X_test)\n",
    "y_hat_gb = gb.predict(X_test)\n",
    "y_hat_la = la.predict(X_test)"
   ]
  },
  {
   "cell_type": "code",
   "execution_count": 8,
   "id": "d8adafa8-2cc2-4b6f-a266-ed198dc9b447",
   "metadata": {},
   "outputs": [
    {
     "data": {
      "image/png": "[encoded data removed]",
      "text/plain": [
       "<Figure size 576x576 with 1 Axes>"
      ]
     },
     "metadata": {
      "needs_background": "light"
     },
     "output_type": "display_data"
    }
   ],
   "source": [
    "plt.figure(figsize=(8,8))\n",
    "plt.plot([0,140000], [0,140000], \"--k\")\n",
    "plt.scatter(y_test,y_hat_rf, label= \"Random Forest\", s=100)\n",
    "plt.scatter(y_test,y_hat_lm, label = \"Linear Model\", s=100)\n",
    "plt.scatter(y_test,y_hat_la, label = \"Lasso\")\n",
    "plt.scatter(y_test,y_hat_gb, label = \"Gradient Boosting\", s=100)\n",
    "\n",
    "plt.legend(loc=\"upper left\");"
   ]
  },
  {
   "cell_type": "code",
   "execution_count": 9,
   "id": "344e086d-d679-44d2-9a2d-b305f4252367",
   "metadata": {},
   "outputs": [
    {
     "name": "stdout",
     "output_type": "stream",
     "text": [
      "12234.43339835179 8948.988250082051 11345.558574991626 8949.728291072523\n"
     ]
    }
   ],
   "source": [
    "rsm_rf = np.sqrt(mean_squared_error(y_hat_rf, y_test))\n",
    "rsm_lm = np.sqrt(mean_squared_error(y_hat_lm, y_test))\n",
    "rsm_la = np.sqrt(mean_squared_error(y_hat_la, y_test))\n",
    "rsm_gb = np.sqrt(mean_squared_error(y_hat_gb, y_test))\n",
    "print(rsm_rf, rsm_lm, rsm_gb, rsm_la)"
   ]
  },
  {
   "cell_type": "code",
   "execution_count": 10,
   "id": "7679ffb1-a588-4fd2-b9b1-62c52a56f91a",
   "metadata": {},
   "outputs": [
    {
     "data": {
      "text/plain": [
       "(0.9003655777433309,\n",
       " 0.9589169384957195,\n",
       " 0.9132477309092657,\n",
       " 0.9588814226546105)"
      ]
     },
     "execution_count": 10,
     "metadata": {},
     "output_type": "execute_result"
    }
   ],
   "source": [
    "explained_variance_score(y_hat_rf, y_test), explained_variance_score(y_hat_lm, y_test), explained_variance_score(y_hat_gb, y_test), explained_variance_score(y_hat_la, y_test)"
   ]
  },
  {
   "cell_type": "code",
   "execution_count": 11,
   "id": "6829becc-bcf3-41d1-a2aa-d8c229efae23",
   "metadata": {},
   "outputs": [
    {
     "name": "stdout",
     "output_type": "stream",
     "text": [
      "Importance for net_invests    :  0.71\n",
      "Importance for Share_TV       :  0.02\n",
      "Importance for agents         :  0.17\n",
      "Importance for lh_anteil      :  0.10\n"
     ]
    }
   ],
   "source": [
    "for i in range(len(use_cols)):\n",
    "    print(f\"Importance for {use_cols[i]:<15}:  {rf.feature_importances_[i]:.2f}\") #{chapt:.<30}{page:.>5}"
   ]
  },
  {
   "cell_type": "code",
   "execution_count": 12,
   "id": "f1913e35-2986-43b8-9d5e-10f22f221b11",
   "metadata": {},
   "outputs": [
    {
     "data": {
      "text/plain": [
       "(8787.784798951328, 8783.968956542029)"
      ]
     },
     "execution_count": 12,
     "metadata": {},
     "output_type": "execute_result"
    }
   ],
   "source": [
    "r2_lm = []\n",
    "r2_la = []\n",
    "r2_rf = []\n",
    "for i in range(1000):\n",
    "    X_train, X_test, y_train, y_test = train_test_split(X, y, test_size=0.2, random_state=i)\n",
    "    lm.fit(X_train, y_train)\n",
    "    la.fit(X_train, y_train)\n",
    "    #rf.fit(X_train, y_train)\n",
    "    y_hat_lm = lm.predict(X_test)\n",
    "    y_hat_la = la.predict(X_test)\n",
    "    #y_hat_rf = rf.predict(X_test)\n",
    "    #r2_rf.append(np.sqrt(mean_squared_error(y_hat_rf, y_test)))\n",
    "    r2_lm.append(np.sqrt(mean_squared_error(y_hat_lm, y_test)))\n",
    "    r2_la.append(np.sqrt(mean_squared_error(y_hat_la, y_test)))\n",
    "\n",
    "mean_lm = np.array(r2_lm).mean()\n",
    "mean_la = np.array(r2_la).mean()\n",
    "#mean_rf = np.array(r2_rf).mean()\n",
    "\n",
    "mean_lm, mean_la, #mean_rf"
   ]
  },
  {
   "cell_type": "code",
   "execution_count": 13,
   "id": "68b6b14a-7ec5-4495-9e4e-95fea0667974",
   "metadata": {},
   "outputs": [
    {
     "data": {
      "image/png": "[encoded data removed]",
      "text/plain": [
       "<Figure size 432x288 with 1 Axes>"
      ]
     },
     "metadata": {
      "needs_background": "light"
     },
     "output_type": "display_data"
    }
   ],
   "source": [
    "#plt.hist(r2_rf, color=(1,0,0,0.3))\n",
    "#plt.hist(r2_rf, color=(0,1,0,0.3))\n",
    "plt.hist(r2_la, color=(1,0,0,0.3))\n",
    "plt.hist(r2_lm, color=(0,0,1,0.3));"
   ]
  },
  {
   "cell_type": "code",
   "execution_count": 14,
   "id": "e59fd965-8a92-4864-baef-475cfb76e9bc",
   "metadata": {},
   "outputs": [
    {
     "data": {
      "text/plain": [
       "<matplotlib.colorbar.Colorbar at 0x241374ba460>"
      ]
     },
     "execution_count": 14,
     "metadata": {},
     "output_type": "execute_result"
    },
    {
     "data": {
      "image/png": "[encoded data removed]",
      "text/plain": [
       "<Figure size 576x576 with 2 Axes>"
      ]
     },
     "metadata": {
      "needs_background": "light"
     },
     "output_type": "display_data"
    }
   ],
   "source": [
    "plt.figure(figsize=(8,8))\n",
    "plt.plot([0,140000], [0,140000], \"--k\")\n",
    "plt.scatter(lm.predict(X), y, c=pd.factorize(df.country)[0], s=300, alpha=0.75)\n",
    "plt.colorbar()"
   ]
  },
  {
   "cell_type": "code",
   "execution_count": 15,
   "id": "314b0536-8e15-4fbc-ad69-e6e1109e2e62",
   "metadata": {},
   "outputs": [
    {
     "data": {
      "text/plain": [
       "<matplotlib.colorbar.Colorbar at 0x2413736da60>"
      ]
     },
     "execution_count": 15,
     "metadata": {},
     "output_type": "execute_result"
    },
    {
     "data": {
      "image/png": "[encoded data removed]",
      "text/plain": [
       "<Figure size 576x576 with 2 Axes>"
      ]
     },
     "metadata": {
      "needs_background": "light"
     },
     "output_type": "display_data"
    }
   ],
   "source": [
    "plt.figure(figsize=(8,8))\n",
    "plt.plot([0,140000], [0,140000], \"--k\")\n",
    "plt.scatter(lm.predict(X), y, c=df.pol_total, s=300, alpha=0.75)\n",
    "plt.colorbar()"
   ]
  },
  {
   "cell_type": "code",
   "execution_count": 30,
   "id": "bc371b04-374c-44d5-893e-46ff731601a0",
   "metadata": {},
   "outputs": [
    {
     "data": {
      "text/html": [
       "<div>\n",
       "<style scoped>\n",
       "    .dataframe tbody tr th:only-of-type {\n",
       "        vertical-align: middle;\n",
       "    }\n",
       "\n",
       "    .dataframe tbody tr th {\n",
       "        vertical-align: top;\n",
       "    }\n",
       "\n",
       "    .dataframe thead th {\n",
       "        text-align: right;\n",
       "    }\n",
       "</style>\n",
       "<table border=\"1\" class=\"dataframe\">\n",
       "  <thead>\n",
       "    <tr style=\"text-align: right;\">\n",
       "      <th></th>\n",
       "      <th>year</th>\n",
       "      <th>quater</th>\n",
       "      <th>country</th>\n",
       "      <th>share</th>\n",
       "      <th>share_hat</th>\n",
       "    </tr>\n",
       "  </thead>\n",
       "  <tbody>\n",
       "    <tr>\n",
       "      <th>0</th>\n",
       "      <td>2021</td>\n",
       "      <td>Q1</td>\n",
       "      <td>Brazil</td>\n",
       "      <td>1.062878</td>\n",
       "      <td>0.652501</td>\n",
       "    </tr>\n",
       "    <tr>\n",
       "      <th>1</th>\n",
       "      <td>2021</td>\n",
       "      <td>Q1</td>\n",
       "      <td>France</td>\n",
       "      <td>11.038608</td>\n",
       "      <td>8.848580</td>\n",
       "    </tr>\n",
       "    <tr>\n",
       "      <th>2</th>\n",
       "      <td>2021</td>\n",
       "      <td>Q1</td>\n",
       "      <td>Germany</td>\n",
       "      <td>3.031283</td>\n",
       "      <td>3.801857</td>\n",
       "    </tr>\n",
       "    <tr>\n",
       "      <th>3</th>\n",
       "      <td>2021</td>\n",
       "      <td>Q1</td>\n",
       "      <td>Italy</td>\n",
       "      <td>2.126773</td>\n",
       "      <td>0.719750</td>\n",
       "    </tr>\n",
       "    <tr>\n",
       "      <th>4</th>\n",
       "      <td>2021</td>\n",
       "      <td>Q1</td>\n",
       "      <td>Spain</td>\n",
       "      <td>5.535594</td>\n",
       "      <td>6.543971</td>\n",
       "    </tr>\n",
       "    <tr>\n",
       "      <th>5</th>\n",
       "      <td>2021</td>\n",
       "      <td>Q1</td>\n",
       "      <td>Switzerland</td>\n",
       "      <td>1.210870</td>\n",
       "      <td>-0.359327</td>\n",
       "    </tr>\n",
       "    <tr>\n",
       "      <th>6</th>\n",
       "      <td>2021</td>\n",
       "      <td>Q2</td>\n",
       "      <td>Brazil</td>\n",
       "      <td>0.366908</td>\n",
       "      <td>0.402527</td>\n",
       "    </tr>\n",
       "    <tr>\n",
       "      <th>7</th>\n",
       "      <td>2021</td>\n",
       "      <td>Q2</td>\n",
       "      <td>France</td>\n",
       "      <td>9.726663</td>\n",
       "      <td>10.040512</td>\n",
       "    </tr>\n",
       "    <tr>\n",
       "      <th>8</th>\n",
       "      <td>2021</td>\n",
       "      <td>Q2</td>\n",
       "      <td>Germany</td>\n",
       "      <td>9.974665</td>\n",
       "      <td>9.867262</td>\n",
       "    </tr>\n",
       "    <tr>\n",
       "      <th>9</th>\n",
       "      <td>2021</td>\n",
       "      <td>Q2</td>\n",
       "      <td>Italy</td>\n",
       "      <td>3.907566</td>\n",
       "      <td>4.544499</td>\n",
       "    </tr>\n",
       "    <tr>\n",
       "      <th>10</th>\n",
       "      <td>2021</td>\n",
       "      <td>Q2</td>\n",
       "      <td>Spain</td>\n",
       "      <td>10.234232</td>\n",
       "      <td>9.229681</td>\n",
       "    </tr>\n",
       "    <tr>\n",
       "      <th>11</th>\n",
       "      <td>2021</td>\n",
       "      <td>Q2</td>\n",
       "      <td>Switzerland</td>\n",
       "      <td>2.931075</td>\n",
       "      <td>1.907206</td>\n",
       "    </tr>\n",
       "    <tr>\n",
       "      <th>12</th>\n",
       "      <td>2021</td>\n",
       "      <td>Q3</td>\n",
       "      <td>Brazil</td>\n",
       "      <td>2.799467</td>\n",
       "      <td>1.573309</td>\n",
       "    </tr>\n",
       "    <tr>\n",
       "      <th>13</th>\n",
       "      <td>2021</td>\n",
       "      <td>Q3</td>\n",
       "      <td>France</td>\n",
       "      <td>14.974691</td>\n",
       "      <td>15.823561</td>\n",
       "    </tr>\n",
       "    <tr>\n",
       "      <th>14</th>\n",
       "      <td>2021</td>\n",
       "      <td>Q3</td>\n",
       "      <td>Germany</td>\n",
       "      <td>33.738720</td>\n",
       "      <td>31.910816</td>\n",
       "    </tr>\n",
       "    <tr>\n",
       "      <th>15</th>\n",
       "      <td>2021</td>\n",
       "      <td>Q3</td>\n",
       "      <td>Italy</td>\n",
       "      <td>2.678504</td>\n",
       "      <td>3.430570</td>\n",
       "    </tr>\n",
       "    <tr>\n",
       "      <th>16</th>\n",
       "      <td>2021</td>\n",
       "      <td>Q3</td>\n",
       "      <td>Spain</td>\n",
       "      <td>9.054837</td>\n",
       "      <td>9.226775</td>\n",
       "    </tr>\n",
       "    <tr>\n",
       "      <th>17</th>\n",
       "      <td>2021</td>\n",
       "      <td>Q3</td>\n",
       "      <td>Switzerland</td>\n",
       "      <td>18.438532</td>\n",
       "      <td>21.386891</td>\n",
       "    </tr>\n",
       "    <tr>\n",
       "      <th>18</th>\n",
       "      <td>2021</td>\n",
       "      <td>Q4</td>\n",
       "      <td>Brazil</td>\n",
       "      <td>1.405897</td>\n",
       "      <td>1.001455</td>\n",
       "    </tr>\n",
       "    <tr>\n",
       "      <th>19</th>\n",
       "      <td>2021</td>\n",
       "      <td>Q4</td>\n",
       "      <td>France</td>\n",
       "      <td>16.320383</td>\n",
       "      <td>19.093460</td>\n",
       "    </tr>\n",
       "    <tr>\n",
       "      <th>20</th>\n",
       "      <td>2021</td>\n",
       "      <td>Q4</td>\n",
       "      <td>Germany</td>\n",
       "      <td>22.854408</td>\n",
       "      <td>21.755389</td>\n",
       "    </tr>\n",
       "    <tr>\n",
       "      <th>21</th>\n",
       "      <td>2021</td>\n",
       "      <td>Q4</td>\n",
       "      <td>Italy</td>\n",
       "      <td>2.482099</td>\n",
       "      <td>3.343986</td>\n",
       "    </tr>\n",
       "    <tr>\n",
       "      <th>22</th>\n",
       "      <td>2021</td>\n",
       "      <td>Q4</td>\n",
       "      <td>Spain</td>\n",
       "      <td>5.131375</td>\n",
       "      <td>5.057495</td>\n",
       "    </tr>\n",
       "    <tr>\n",
       "      <th>23</th>\n",
       "      <td>2021</td>\n",
       "      <td>Q4</td>\n",
       "      <td>Switzerland</td>\n",
       "      <td>1.879852</td>\n",
       "      <td>0.781320</td>\n",
       "    </tr>\n",
       "    <tr>\n",
       "      <th>24</th>\n",
       "      <td>2022</td>\n",
       "      <td>Q1</td>\n",
       "      <td>Brazil</td>\n",
       "      <td>0.260783</td>\n",
       "      <td>0.366664</td>\n",
       "    </tr>\n",
       "    <tr>\n",
       "      <th>25</th>\n",
       "      <td>2022</td>\n",
       "      <td>Q1</td>\n",
       "      <td>France</td>\n",
       "      <td>20.266310</td>\n",
       "      <td>23.358546</td>\n",
       "    </tr>\n",
       "    <tr>\n",
       "      <th>26</th>\n",
       "      <td>2022</td>\n",
       "      <td>Q1</td>\n",
       "      <td>Germany</td>\n",
       "      <td>4.555852</td>\n",
       "      <td>4.330471</td>\n",
       "    </tr>\n",
       "    <tr>\n",
       "      <th>27</th>\n",
       "      <td>2022</td>\n",
       "      <td>Q1</td>\n",
       "      <td>Italy</td>\n",
       "      <td>2.422452</td>\n",
       "      <td>1.233883</td>\n",
       "    </tr>\n",
       "    <tr>\n",
       "      <th>28</th>\n",
       "      <td>2022</td>\n",
       "      <td>Q1</td>\n",
       "      <td>Spain</td>\n",
       "      <td>8.560029</td>\n",
       "      <td>8.510310</td>\n",
       "    </tr>\n",
       "    <tr>\n",
       "      <th>29</th>\n",
       "      <td>2022</td>\n",
       "      <td>Q1</td>\n",
       "      <td>Switzerland</td>\n",
       "      <td>11.832377</td>\n",
       "      <td>11.778740</td>\n",
       "    </tr>\n",
       "  </tbody>\n",
       "</table>\n",
       "</div>"
      ],
      "text/plain": [
       "    year quater      country      share  share_hat\n",
       "0   2021     Q1       Brazil   1.062878   0.652501\n",
       "1   2021     Q1       France  11.038608   8.848580\n",
       "2   2021     Q1      Germany   3.031283   3.801857\n",
       "3   2021     Q1        Italy   2.126773   0.719750\n",
       "4   2021     Q1        Spain   5.535594   6.543971\n",
       "5   2021     Q1  Switzerland   1.210870  -0.359327\n",
       "6   2021     Q2       Brazil   0.366908   0.402527\n",
       "7   2021     Q2       France   9.726663  10.040512\n",
       "8   2021     Q2      Germany   9.974665   9.867262\n",
       "9   2021     Q2        Italy   3.907566   4.544499\n",
       "10  2021     Q2        Spain  10.234232   9.229681\n",
       "11  2021     Q2  Switzerland   2.931075   1.907206\n",
       "12  2021     Q3       Brazil   2.799467   1.573309\n",
       "13  2021     Q3       France  14.974691  15.823561\n",
       "14  2021     Q3      Germany  33.738720  31.910816\n",
       "15  2021     Q3        Italy   2.678504   3.430570\n",
       "16  2021     Q3        Spain   9.054837   9.226775\n",
       "17  2021     Q3  Switzerland  18.438532  21.386891\n",
       "18  2021     Q4       Brazil   1.405897   1.001455\n",
       "19  2021     Q4       France  16.320383  19.093460\n",
       "20  2021     Q4      Germany  22.854408  21.755389\n",
       "21  2021     Q4        Italy   2.482099   3.343986\n",
       "22  2021     Q4        Spain   5.131375   5.057495\n",
       "23  2021     Q4  Switzerland   1.879852   0.781320\n",
       "24  2022     Q1       Brazil   0.260783   0.366664\n",
       "25  2022     Q1       France  20.266310  23.358546\n",
       "26  2022     Q1      Germany   4.555852   4.330471\n",
       "27  2022     Q1        Italy   2.422452   1.233883\n",
       "28  2022     Q1        Spain   8.560029   8.510310\n",
       "29  2022     Q1  Switzerland  11.832377  11.778740"
      ]
     },
     "execution_count": 30,
     "metadata": {},
     "output_type": "execute_result"
    }
   ],
   "source": [
    "df[\"pred_hat\"] = lm.predict(X)\n",
    "df[\"share_hat\"] = df.pred / df.pol_total *100\n",
    "df[\"share\"] = df.target_60 / df.pol_total *100\n",
    "df[[\"year\", \"quater\", \"country\", \"share\", \"share_hat\"]]"
   ]
  },
  {
   "cell_type": "code",
   "execution_count": 583,
   "id": "5c39ee37-02f9-4ab2-bcd6-5e510dbb969c",
   "metadata": {},
   "outputs": [],
   "source": [
    "# la1 = Lasso(alpha=0.5, max_iter=5000)pol_total\n",
    "# la5 = Lasso(alpha=5, max_iter=5000)\n",
    "# la10 = Lasso(alpha=10, max_iter=5000)\n",
    "# la20 = Lasso(alpha=20, max_iter=5000)"
   ]
  },
  {
   "cell_type": "code",
   "execution_count": 584,
   "id": "e3b0deca-89f6-4a97-bbdc-d86edf27111e",
   "metadata": {},
   "outputs": [],
   "source": [
    "# rmse_lm1 = []\n",
    "# rmse_lm5 = []\n",
    "# rmse_lm10 = []\n",
    "# rmse_lm20 = []\n",
    "\n",
    "\n",
    "# for i in range(1000):\n",
    "#     X_train, X_test, y_train, y_test = train_test_split(X, y, test_size=0.17, random_state=i)\n",
    "#     la1.fit(X_train, y_train)\n",
    "#     la5.fit(X_train, y_train)\n",
    "#     la10.fit(X_train, y_train)\n",
    "#     la20.fit(X_train, y_train)\n",
    "    \n",
    "    \n",
    "#     y_hat_la1 = la1.predict(X_test)\n",
    "#     y_hat_la5 = la5.predict(X_test)\n",
    "#     y_hat_la10 = la10.predict(X_test)\n",
    "#     y_hat_la20 = la20.predict(X_test)\n",
    "#     #y_hat_rf = rf.predict(X_test)\n",
    "#     #r2_rf.append(np.sqrt(mean_squared_error(y_hat_rf, y_test)))\n",
    "#     rmse_lm1.append(np.sqrt(mean_squared_error(y_hat_la1, y_test)))\n",
    "#     rmse_lm5.append(np.sqrt(mean_squared_error(y_hat_la5, y_test)))\n",
    "#     rmse_lm10.append(np.sqrt(mean_squared_error(y_hat_la10, y_test)))\n",
    "#     rmse_lm20.append(np.sqrt(mean_squared_error(y_hat_la20, y_test)))\n",
    "    \n",
    "\n",
    "# mean_la1 = np.array(rmse_lm1).mean()\n",
    "# mean_la5 = np.array(rmse_lm5).mean()\n",
    "# mean_la10 = np.array(rmse_lm10).mean()\n",
    "# mean_la20 = np.array(rmse_lm20).mean()\n",
    "# #mean_rf = np.array(r2_rf).mean()\n",
    "\n",
    "# mean_la1, mean_la5, mean_la10, mean_la20"
   ]
  },
  {
   "cell_type": "code",
   "execution_count": 585,
   "id": "430854ad-5751-48ae-921d-cb965ce78a59",
   "metadata": {},
   "outputs": [
    {
     "data": {
      "text/plain": [
       "array([0, 1, 2, 3, 4, 5, 0, 1, 2, 3, 4, 5, 0, 1, 2, 3, 4, 5, 0, 1, 2, 3,\n",
       "       4, 5, 0, 1, 2, 3, 4, 5], dtype=int64)"
      ]
     },
     "execution_count": 585,
     "metadata": {},
     "output_type": "execute_result"
    }
   ],
   "source": [
    "pd.factorize(df.country)[0]"
   ]
  },
  {
   "cell_type": "code",
   "execution_count": null,
   "id": "867ace2e-828d-4636-acfc-39b63184687c",
   "metadata": {},
   "outputs": [],
   "source": []
  }
 ],
 "metadata": {
  "kernelspec": {
   "display_name": "Python 3 (ipykernel)",
   "language": "python",
   "name": "python3"
  },
  "language_info": {
   "codemirror_mode": {
    "name": "ipython",
    "version": 3
   },
   "file_extension": ".py",
   "mimetype": "text/x-python",
   "name": "python",
   "nbconvert_exporter": "python",
   "pygments_lexer": "ipython3",
   "version": "3.9.13"
  }
 },
 "nbformat": 4,
 "nbformat_minor": 5
}
